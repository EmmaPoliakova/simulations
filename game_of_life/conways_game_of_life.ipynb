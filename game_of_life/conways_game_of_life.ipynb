{
 "cells": [
  {
   "cell_type": "markdown",
   "metadata": {},
   "source": [
    "Game of life"
   ]
  },
  {
   "cell_type": "code",
   "execution_count": 253,
   "metadata": {},
   "outputs": [],
   "source": [
    "import numpy as np\n",
    "import time\n",
    "from ipycanvas import hold_canvas, MultiCanvas\n",
    "import ipywidgets as widgets\n",
    "from ipywidgets import Button, HBox, VBox, Layout\n",
    "import threading\n",
    "import random\n"
   ]
  },
  {
   "cell_type": "code",
   "execution_count": 254,
   "metadata": {
    "hide_input": false
   },
   "outputs": [],
   "source": [
    "{\n",
    "    \"tags\": [\n",
    "        \"remove_input\",\n",
    "    ]\n",
    "}\n",
    "def draw_grid(canvas):\n",
    "    canvas.stroke_style = '#c1bcbb'\n",
    "    for x in range(1,500,10):\n",
    "        canvas.begin_path()\n",
    "        canvas.move_to(x, 0)\n",
    "        canvas.line_to(x, 500)\n",
    "        canvas.stroke()\n",
    "        \n",
    "    canvas.move_to(500, 0)\n",
    "    canvas.line_to(500, 500)\n",
    "    canvas.stroke() \n",
    "    \n",
    "        \n",
    "    for x in range(1,500,10):\n",
    "        canvas.begin_path()\n",
    "        canvas.move_to(0, x)\n",
    "        canvas.line_to(500, x)\n",
    "        canvas.stroke() \n",
    "        \n",
    "    canvas.move_to(0, 500)\n",
    "    canvas.line_to(500, 500)\n",
    "    canvas.stroke()\n",
    "        \n"
   ]
  },
  {
   "cell_type": "code",
   "execution_count": 255,
   "metadata": {
    "hide_input": false
   },
   "outputs": [],
   "source": [
    "{\n",
    "    \"tags\": [\n",
    "        \"remove_input\",\n",
    "    ]\n",
    "}\n",
    "def draw_cells(live_cells, canvas, cell_size):\n",
    "    with hold_canvas(canvas):\n",
    "        canvas.clear()\n",
    "        r = 0\n",
    "        for row in live_cells:\n",
    "            c = 0\n",
    "            for value in row:\n",
    "                if value:\n",
    "                    canvas.fill_rect(r * cell_size, c * cell_size, cell_size)\n",
    "\n",
    "                c += 1\n",
    "            r += 1\n"
   ]
  },
  {
   "cell_type": "code",
   "execution_count": 256,
   "metadata": {
    "scrolled": true
   },
   "outputs": [],
   "source": [
    "def check_neighbours (live_cells, N):\n",
    "\n",
    " \n",
    "    return(live_cells)"
   ]
  },
  {
   "cell_type": "code",
   "execution_count": 257,
   "metadata": {},
   "outputs": [],
   "source": [
    "{\n",
    "    \"tags\": [\n",
    "        \"remove_input\",\n",
    "    ]\n",
    "}\n",
    "def random_setup(live_cells):\n",
    "    for i in range(50):\n",
    "        for j in range(50):\n",
    "            live_cells[i][j] = random.randint(0,1)\n",
    "            \n",
    "    "
   ]
  },
  {
   "cell_type": "code",
   "execution_count": 258,
   "metadata": {
    "hide_input": false
   },
   "outputs": [],
   "source": [
    "{\n",
    "    \"tags\": [\n",
    "        \"remove_input\",\n",
    "    ]\n",
    "}\n",
    "def on_change(selected):\n",
    "    global canvas\n",
    "    global live_cells\n",
    "    \n",
    "    live_cells = np.zeros((50, 50))\n",
    "    if selected['new']==1 :\n",
    "        pulsar =\\\n",
    "        [[0,0,0,0,0,0,0,0,0,0,0,0,0,0,0,0,0],\n",
    "         [0,0,0,0,0,0,0,0,0,0,0,0,0,0,0,0,0],\n",
    "         [0,0,0,0,1,1,1,0,0,0,1,1,1,0,0,0,0],\n",
    "         [0,0,0,0,0,0,0,0,0,0,0,0,0,0,0,0,0],\n",
    "         [0,0,1,0,0,0,0,1,0,1,0,0,0,0,1,0,0],\n",
    "         [0,0,1,0,0,0,0,1,0,1,0,0,0,0,1,0,0],\n",
    "         [0,0,1,0,0,0,0,1,0,1,0,0,0,0,1,0,0],\n",
    "         [0,0,0,0,1,1,1,0,0,0,1,1,1,0,0,0,0],\n",
    "         [0,0,0,0,0,0,0,0,0,0,0,0,0,0,0,0,0],\n",
    "         [0,0,0,0,1,1,1,0,0,0,1,1,1,0,0,0,0],\n",
    "         [0,0,1,0,0,0,0,1,0,1,0,0,0,0,1,0,0],\n",
    "         [0,0,1,0,0,0,0,1,0,1,0,0,0,0,1,0,0],\n",
    "         [0,0,1,0,0,0,0,1,0,1,0,0,0,0,1,0,0],\n",
    "         [0,0,0,0,0,0,0,0,0,0,0,0,0,0,0,0,0],\n",
    "         [0,0,0,0,1,1,1,0,0,0,1,1,1,0,0,0,0],\n",
    "         [0,0,0,0,0,0,0,0,0,0,0,0,0,0,0,0,0],\n",
    "         [0,0,0,0,0,0,0,0,0,0,0,0,0,0,0,0,0],]\n",
    "        \n",
    "        live_cells[1:18,1:18] = pulsar\n",
    "            \n",
    "    if selected['new']==2 :\n",
    "        beacon =\\\n",
    "        [[0,0,0,0,0,0], \n",
    "         [0,1,1,0,0,0],\n",
    "         [0,1,1,0,0,0],\n",
    "         [0,0,0,1,1,0],\n",
    "         [0,0,0,1,1,0],\n",
    "         [0,0,0,0,0,0]]\n",
    "        \n",
    "        live_cells[1:7,1:7] = beacon\n",
    "        \n",
    "    if selected['new']==3 :\n",
    "        spaceship=\\\n",
    "        [[0,0,0,0,0,0,0,0,0,0,0],\n",
    "         [0,0,0,0,0,1,1,0,0,0,0],\n",
    "         [0,0,0,1,0,0,0,0,1,0,0],\n",
    "         [0,0,1,0,0,0,0,0,0,0,0],\n",
    "         [0,0,1,0,0,0,0,0,1,0,0],\n",
    "         [0,0,1,1,1,1,1,1,0,0,0],\n",
    "         [0,0,0,0,0,0,0,0,0,0,0],\n",
    "         [0,0,0,0,0,0,0,0,0,0,0],\n",
    "         [0,0,0,0,0,0,0,0,0,0,0]]\n",
    "        \n",
    "        live_cells[1:10,1:12] = spaceship\n",
    "        \n",
    "    if selected['new']==4 :\n",
    "        penta=\\\n",
    "        [[0,0,0,0,0,0,0,0,0,0,0,0,0,0,0,0,0,0],\n",
    "         [0,0,0,0,0,0,0,0,0,0,0,0,0,0,0,0,0,0],\n",
    "         [0,0,0,0,0,0,0,0,0,0,0,0,0,0,0,0,0,0],\n",
    "         [0,0,0,0,0,0,0,0,0,0,0,0,0,0,0,0,0,0],\n",
    "         [0,0,0,0,0,0,1,0,0,0,0,1,0,0,0,0,0,0],\n",
    "         [0,0,0,0,1,1,0,1,1,1,1,0,1,1,0,0,0,0],\n",
    "         [0,0,0,0,0,0,1,0,0,0,0,1,0,0,0,0,0,0],\n",
    "         [0,0,0,0,0,0,0,0,0,0,0,0,0,0,0,0,0,0],\n",
    "         [0,0,0,0,0,0,0,0,0,0,0,0,0,0,0,0,0,0],\n",
    "         [0,0,0,0,0,0,0,0,0,0,0,0,0,0,0,0,0,0],\n",
    "         [0,0,0,0,0,0,0,0,0,0,0,0,0,0,0,0,0,0]]\n",
    "        \n",
    "        live_cells[1:12,1:19] = penta\n",
    "        \n",
    "    if selected['new']==5 :\n",
    "            glider_gun =\\\n",
    "            [[0,0,0,0,0,0,0,0,0,0,0,0,0,0,0,0,0,0,0,0,0,0,0,0,1,0,0,0,0,0,0,0,0,0,0,0],\n",
    "             [0,0,0,0,0,0,0,0,0,0,0,0,0,0,0,0,0,0,0,0,0,0,1,0,1,0,0,0,0,0,0,0,0,0,0,0],\n",
    "             [0,0,0,0,0,0,0,0,0,0,0,0,1,1,0,0,0,0,0,0,1,1,0,0,0,0,0,0,0,0,0,0,0,0,1,1],\n",
    "             [0,0,0,0,0,0,0,0,0,0,0,1,0,0,0,1,0,0,0,0,1,1,0,0,0,0,0,0,0,0,0,0,0,0,1,1],\n",
    "             [1,1,0,0,0,0,0,0,0,0,1,0,0,0,0,0,1,0,0,0,1,1,0,0,0,0,0,0,0,0,0,0,0,0,0,0],\n",
    "             [1,1,0,0,0,0,0,0,0,0,1,0,0,0,1,0,1,1,0,0,0,0,1,0,1,0,0,0,0,0,0,0,0,0,0,0],\n",
    "             [0,0,0,0,0,0,0,0,0,0,1,0,0,0,0,0,1,0,0,0,0,0,0,0,1,0,0,0,0,0,0,0,0,0,0,0],\n",
    "             [0,0,0,0,0,0,0,0,0,0,0,1,0,0,0,1,0,0,0,0,0,0,0,0,0,0,0,0,0,0,0,0,0,0,0,0],\n",
    "             [0,0,0,0,0,0,0,0,0,0,0,0,1,1,0,0,0,0,0,0,0,0,0,0,0,0,0,0,0,0,0,0,0,0,0,0]]\n",
    "            \n",
    "            live_cells[1:10,1:37] = glider_gun\n",
    "    \n",
    "    if selected['new']==6 :\n",
    "        random_setup(live_cells)\n",
    "        \n",
    "    draw_cells(live_cells, canvas[1], 10)  "
   ]
  },
  {
   "cell_type": "code",
   "execution_count": 259,
   "metadata": {
    "hide_input": false
   },
   "outputs": [],
   "source": [
    "def play_game():\n",
    "    global play\n",
    "    play = True\n",
    "    global live_cells\n",
    "    global canvas\n",
    "    draw_cells(live_cells, canvas[1], 10)\n",
    "    while play:\n",
    "        live_cells = check_neighbours(live_cells, 50)\n",
    "        draw_cells(live_cells, canvas[1], 10)\n",
    "        time.sleep(0.1)"
   ]
  },
  {
   "cell_type": "code",
   "execution_count": 260,
   "metadata": {
    "hide_input": false
   },
   "outputs": [],
   "source": [
    "{\n",
    "    \"tags\": [\n",
    "        \"remove_input\",\n",
    "    ]\n",
    "}\n",
    "def start_game(b):\n",
    "    thread = threading.Thread(target=play_game)\n",
    "    thread.start()"
   ]
  },
  {
   "cell_type": "code",
   "execution_count": 261,
   "metadata": {
    "hide_input": false
   },
   "outputs": [],
   "source": [
    "{\n",
    "    \"tags\": [\n",
    "        \"remove_input\",\n",
    "    ]\n",
    "}\n",
    "def clear_game(b):\n",
    "    global live_cells\n",
    "    global canvas\n",
    "    global play\n",
    "    play = False\n",
    "    canvas[1].clear()\n",
    "    live_cells = np.zeros((50, 50))"
   ]
  },
  {
   "cell_type": "code",
   "execution_count": 262,
   "metadata": {
    "hide_input": false
   },
   "outputs": [],
   "source": [
    "{\n",
    "    \"tags\": [\n",
    "        \"remove_input\",\n",
    "    ]\n",
    "}\n",
    "def pause_game(b):\n",
    "    global play \n",
    "    play = False"
   ]
  },
  {
   "cell_type": "code",
   "execution_count": 263,
   "metadata": {
    "scrolled": false
   },
   "outputs": [
    {
     "data": {
      "application/vnd.jupyter.widget-view+json": {
       "model_id": "3ca1959b438a40a28451209f87a69ddb",
       "version_major": 2,
       "version_minor": 0
      },
      "text/plain": [
       "HBox(children=(MultiCanvas(layout=Layout(height='500px', width='700px')), VBox(children=(Button(description='s…"
      ]
     },
     "metadata": {},
     "output_type": "display_data"
    }
   ],
   "source": [
    "live_cells = np.zeros((50, 50))\n",
    "play = True\n",
    "\n",
    "start_button = Button(description=\"start\")\n",
    "stop_button = Button(description=\"stop\")\n",
    "clear_button = Button(description=\"clear\")\n",
    "select_button = widgets.Dropdown(\n",
    "    options=[('Select', 0), ('Pulsar', 1), ('Beacon', 2), ('Spaceship', 3), ('Penta-decathlon', 4),('Glider gun', 5),('Random', 6)],\n",
    "    value = 0,\n",
    "    layout={'width': 'max-content'}\n",
    ")\n",
    "\n",
    "canvas = MultiCanvas(n_canvases=3, width=500, height=500)\n",
    "draw_grid(canvas[0])\n",
    "interaction_layer = canvas[2]\n",
    "right_box = VBox([start_button, stop_button, clear_button, widgets.Label(value =' '), widgets.Label(value ='Patterns: '), select_button])\n",
    "HBox([canvas,right_box])\n",
    "\n"
   ]
  },
  {
   "cell_type": "code",
   "execution_count": 264,
   "metadata": {
    "hide_input": false
   },
   "outputs": [],
   "source": [
    "{\n",
    "    \"tags\": [\n",
    "        \"remove_input\",\n",
    "    ]\n",
    "}\n",
    "start_button.on_click(start_game)\n",
    "stop_button.on_click(pause_game)\n",
    "clear_button.on_click(clear_game)\n",
    "select_button.observe(on_change, names='value')"
   ]
  },
  {
   "cell_type": "code",
   "execution_count": 265,
   "metadata": {},
   "outputs": [
    {
     "name": "stdout",
     "output_type": "stream",
     "text": [
      "Failed testcase 1\n"
     ]
    }
   ],
   "source": [
    "cells_to_test = np.loadtxt(\"tests/testcase1.txt\")\n",
    "result = np.loadtxt(\"tests/testsolve1.txt\")\n",
    "if (np.array_equal(check_neighbours(cells_to_test,50), result)):\n",
    "    print(\"Passed testcase 1\")\n",
    "else:\n",
    "    print(\"Failed testcase 1\")\n",
    "    \n"
   ]
  },
  {
   "cell_type": "code",
   "execution_count": 266,
   "metadata": {},
   "outputs": [
    {
     "name": "stdout",
     "output_type": "stream",
     "text": [
      "Failed testcase 2\n"
     ]
    }
   ],
   "source": [
    "cells_to_test = np.loadtxt(\"tests/testcase2.txt\")\n",
    "result = np.loadtxt(\"tests/testsolve2.txt\")\n",
    "if (np.array_equal(check_neighbours(cells_to_test,50), result)):\n",
    "    print(\"Passed testcase 2\")\n",
    "else:\n",
    "    print(\"Failed testcase 2\")\n",
    "    \n",
    "draw_cells(result, canvas[1], 10) "
   ]
  },
  {
   "cell_type": "code",
   "execution_count": 267,
   "metadata": {},
   "outputs": [
    {
     "name": "stdout",
     "output_type": "stream",
     "text": [
      "Failed testcase 3\n"
     ]
    }
   ],
   "source": [
    "cells_to_test = np.loadtxt(\"tests/testcase3.txt\")\n",
    "result = np.loadtxt(\"tests/testsolve3.txt\")\n",
    "if (np.array_equal(check_neighbours(cells_to_test,50), result)):\n",
    "    print(\"Passed testcase 3\")\n",
    "else:\n",
    "    print(\"Failed testcase 3\")"
   ]
  }
 ],
 "metadata": {
  "kernelspec": {
   "display_name": "Python 3",
   "language": "python",
   "name": "python3"
  },
  "language_info": {
   "codemirror_mode": {
    "name": "ipython",
    "version": 3
   },
   "file_extension": ".py",
   "mimetype": "text/x-python",
   "name": "python",
   "nbconvert_exporter": "python",
   "pygments_lexer": "ipython3",
   "version": "3.6.5"
  }
 },
 "nbformat": 4,
 "nbformat_minor": 4
}
